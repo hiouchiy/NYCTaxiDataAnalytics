{
 "cells": [
  {
   "cell_type": "markdown",
   "metadata": {},
   "source": [
    "# タクシー乗客数予測モデル構築（リモートトレーニング編）\n",
    "#### 参考１：https://github.com/Azure/MachineLearningNotebooks/blob/master/how-to-use-azureml/training/train-on-amlcompute/train-on-amlcompute.ipynb"
   ]
  },
  {
   "cell_type": "markdown",
   "metadata": {},
   "source": [
    "## Azure ML Service用の準備"
   ]
  },
  {
   "cell_type": "code",
   "execution_count": 27,
   "metadata": {},
   "outputs": [
    {
     "name": "stdout",
     "output_type": "stream",
     "text": [
      "Azure ML SDK Version:  1.0.15\n"
     ]
    }
   ],
   "source": [
    "import azureml\n",
    "from azureml.core import Workspace, Run\n",
    "\n",
    "# check core SDK version number\n",
    "print(\"Azure ML SDK Version: \", azureml.core.VERSION)"
   ]
  },
  {
   "cell_type": "code",
   "execution_count": 28,
   "metadata": {},
   "outputs": [
    {
     "name": "stdout",
     "output_type": "stream",
     "text": [
      "Found the config file in: c:\\usr\\dev\\notebook\\config.json\n",
      "hiouchiyamls\tAzureMLserviceRG\twestus2\n"
     ]
    }
   ],
   "source": [
    "# load workspace configuration from the config.json file in the current folder.\n",
    "ws = Workspace.from_config()\n",
    "print(ws.name, ws.resource_group, ws.location, sep = '\\t')"
   ]
  },
  {
   "cell_type": "code",
   "execution_count": 29,
   "metadata": {},
   "outputs": [
    {
     "data": {
      "text/html": [
       "<div>\n",
       "<style scoped>\n",
       "    .dataframe tbody tr th:only-of-type {\n",
       "        vertical-align: middle;\n",
       "    }\n",
       "\n",
       "    .dataframe tbody tr th {\n",
       "        vertical-align: top;\n",
       "    }\n",
       "\n",
       "    .dataframe thead th {\n",
       "        text-align: right;\n",
       "    }\n",
       "</style>\n",
       "<table border=\"1\" class=\"dataframe\">\n",
       "  <thead>\n",
       "    <tr style=\"text-align: right;\">\n",
       "      <th></th>\n",
       "      <th></th>\n",
       "    </tr>\n",
       "  </thead>\n",
       "  <tbody>\n",
       "    <tr>\n",
       "      <th>SDK version</th>\n",
       "      <td>1.0.15</td>\n",
       "    </tr>\n",
       "    <tr>\n",
       "      <th>Subscription ID</th>\n",
       "      <td>2c30e7ba-539b-4017-a5bc-5028d8e170ec</td>\n",
       "    </tr>\n",
       "    <tr>\n",
       "      <th>Workspace Name</th>\n",
       "      <td>hiouchiyamls</td>\n",
       "    </tr>\n",
       "    <tr>\n",
       "      <th>Resource Group</th>\n",
       "      <td>AzureMLserviceRG</td>\n",
       "    </tr>\n",
       "    <tr>\n",
       "      <th>Location</th>\n",
       "      <td>westus2</td>\n",
       "    </tr>\n",
       "    <tr>\n",
       "      <th>Project Directory</th>\n",
       "      <td>./sample_projects/ml-regression-remote-taxi</td>\n",
       "    </tr>\n",
       "    <tr>\n",
       "      <th>Experiment Name</th>\n",
       "      <td>ml-regression-remote-taxi</td>\n",
       "    </tr>\n",
       "  </tbody>\n",
       "</table>\n",
       "</div>"
      ],
      "text/plain": [
       "                                                              \n",
       "SDK version        1.0.15                                     \n",
       "Subscription ID    2c30e7ba-539b-4017-a5bc-5028d8e170ec       \n",
       "Workspace Name     hiouchiyamls                               \n",
       "Resource Group     AzureMLserviceRG                           \n",
       "Location           westus2                                    \n",
       "Project Directory  ./sample_projects/ml-regression-remote-taxi\n",
       "Experiment Name    ml-regression-remote-taxi                  "
      ]
     },
     "execution_count": 29,
     "metadata": {},
     "output_type": "execute_result"
    }
   ],
   "source": [
    "experiment_name = 'ml-regression-remote-taxi'\n",
    "\n",
    "from azureml.core import Experiment\n",
    "exp = Experiment(workspace=ws, name=experiment_name)\n",
    "\n",
    "import pandas as pd\n",
    "\n",
    "project_folder = './sample_projects/ml-regression-remote-taxi'\n",
    "output = {}\n",
    "output['SDK version'] = azureml.core.VERSION\n",
    "output['Subscription ID'] = ws.subscription_id\n",
    "output['Workspace Name'] = ws.name\n",
    "output['Resource Group'] = ws.resource_group\n",
    "output['Location'] = ws.location\n",
    "output['Project Directory'] = project_folder\n",
    "output['Experiment Name'] = exp.name\n",
    "pd.set_option('display.max_colwidth', -1)\n",
    "outputDf = pd.DataFrame(data = output, index = [''])\n",
    "outputDf.T"
   ]
  },
  {
   "cell_type": "markdown",
   "metadata": {},
   "source": [
    "## トレーニング用スクリプト用意"
   ]
  },
  {
   "cell_type": "code",
   "execution_count": 30,
   "metadata": {},
   "outputs": [],
   "source": [
    "import os\n",
    "os.makedirs(project_folder, exist_ok=True)"
   ]
  },
  {
   "cell_type": "code",
   "execution_count": 31,
   "metadata": {},
   "outputs": [
    {
     "name": "stdout",
     "output_type": "stream",
     "text": [
      "Overwriting ./sample_projects/ml-regression-remote-taxi/get_data.py\n"
     ]
    }
   ],
   "source": [
    "%%writefile $project_folder/get_data.py\n",
    "\n",
    "import numpy as np\n",
    "from azure.storage.blob import BlockBlobService\n",
    "import pandas as pd\n",
    "import os.path\n",
    "\n",
    "def get_data():\n",
    "    \n",
    "    if not os.path.exists('./inputdata.csv') :\n",
    "        account_name='cognitiveservicerg978'\n",
    "        account_key='IQndkgEB3mLChKaaq3VW1B5Hp97tnH1EXg4XMJRujWOkVpJpsC52H6O29I7GT33K7LFIvU0V7iCFcD9XPZFlyQ=='\n",
    "        container_name='taxi-demo'\n",
    "        blob_name='processed_data/part-00000-tid-2330783742724801539-e7e51907-ff34-4439-94e0-576f18c193ea-1202-c000.csv'\n",
    "        \n",
    "        service = BlockBlobService(account_name=account_name, account_key=account_key)\n",
    "        service.get_blob_to_path(container_name,blob_name,'inputdata.csv')\n",
    "    \n",
    "    df = pd.read_csv('./inputdata.csv')\n",
    "    X_train = df.drop(columns=[\"pickup_year\",\"pickup_month\",\"pickup_day\",\"count\",\"avg_trip_distance\",\"avg_trip_time_in_secs\"],axis=1)\n",
    "    y_train = df[\"count\"].values\n",
    "\n",
    "    return { \"X\" : X_train, \"y\" : y_train }"
   ]
  },
  {
   "cell_type": "markdown",
   "metadata": {},
   "source": [
    "## トレーニング実施（AML Compute - Persistent compute target 編）"
   ]
  },
  {
   "cell_type": "code",
   "execution_count": 32,
   "metadata": {},
   "outputs": [
    {
     "data": {
      "text/plain": [
       "[{'name': 'Standard_F2s_v2', 'vCPUs': 2, 'memoryGB': 4.0},\n",
       " {'name': 'Standard_F4s_v2', 'vCPUs': 4, 'memoryGB': 8.0},\n",
       " {'name': 'Standard_F8s_v2', 'vCPUs': 8, 'memoryGB': 16.0},\n",
       " {'name': 'Standard_F16s_v2', 'vCPUs': 16, 'memoryGB': 32.0},\n",
       " {'name': 'Standard_F32s_v2', 'vCPUs': 32, 'memoryGB': 64.0},\n",
       " {'name': 'Standard_F64s_v2', 'vCPUs': 64, 'memoryGB': 128.0},\n",
       " {'name': 'Standard_F72s_v2', 'vCPUs': 72, 'memoryGB': 144.0},\n",
       " {'name': 'Standard_D1_v2', 'vCPUs': 1, 'memoryGB': 3.5},\n",
       " {'name': 'Standard_D2_v2', 'vCPUs': 2, 'memoryGB': 7.0},\n",
       " {'name': 'Standard_D3_v2', 'vCPUs': 4, 'memoryGB': 14.0},\n",
       " {'name': 'Standard_D4_v2', 'vCPUs': 8, 'memoryGB': 28.0},\n",
       " {'name': 'Standard_D11_v2', 'vCPUs': 2, 'memoryGB': 14.0},\n",
       " {'name': 'Standard_D12_v2', 'vCPUs': 4, 'memoryGB': 28.0},\n",
       " {'name': 'Standard_D13_v2', 'vCPUs': 8, 'memoryGB': 56.0},\n",
       " {'name': 'Standard_D14_v2', 'vCPUs': 16, 'memoryGB': 112.0},\n",
       " {'name': 'Standard_DS1_v2', 'vCPUs': 1, 'memoryGB': 3.5},\n",
       " {'name': 'Standard_DS2_v2', 'vCPUs': 2, 'memoryGB': 7.0},\n",
       " {'name': 'Standard_DS3_v2', 'vCPUs': 4, 'memoryGB': 14.0},\n",
       " {'name': 'Standard_DS4_v2', 'vCPUs': 8, 'memoryGB': 28.0},\n",
       " {'name': 'Standard_DS5_v2', 'vCPUs': 16, 'memoryGB': 56.0},\n",
       " {'name': 'Standard_DS11_v2', 'vCPUs': 2, 'memoryGB': 14.0},\n",
       " {'name': 'Standard_DS12_v2', 'vCPUs': 4, 'memoryGB': 28.0},\n",
       " {'name': 'Standard_DS13_v2', 'vCPUs': 8, 'memoryGB': 56.0},\n",
       " {'name': 'Standard_DS14_v2', 'vCPUs': 16, 'memoryGB': 112.0},\n",
       " {'name': 'Standard_DS15_v2', 'vCPUs': 20, 'memoryGB': 140.0},\n",
       " {'name': 'Standard_NC6s_v2', 'vCPUs': 6, 'memoryGB': 112.0},\n",
       " {'name': 'Standard_NC12s_v2', 'vCPUs': 12, 'memoryGB': 224.0},\n",
       " {'name': 'Standard_NC24rs_v2', 'vCPUs': 24, 'memoryGB': 448.0},\n",
       " {'name': 'Standard_NC24s_v2', 'vCPUs': 24, 'memoryGB': 448.0},\n",
       " {'name': 'Standard_NC6s_v3', 'vCPUs': 6, 'memoryGB': 112.0},\n",
       " {'name': 'Standard_NC12s_v3', 'vCPUs': 12, 'memoryGB': 224.0},\n",
       " {'name': 'Standard_NC24rs_v3', 'vCPUs': 24, 'memoryGB': 448.0},\n",
       " {'name': 'Standard_NC24s_v3', 'vCPUs': 24, 'memoryGB': 448.0},\n",
       " {'name': 'Standard_NC6', 'vCPUs': 6, 'memoryGB': 56.0},\n",
       " {'name': 'Standard_NC12', 'vCPUs': 12, 'memoryGB': 112.0},\n",
       " {'name': 'Standard_NC24', 'vCPUs': 24, 'memoryGB': 224.0},\n",
       " {'name': 'Standard_NC24r', 'vCPUs': 24, 'memoryGB': 224.0},\n",
       " {'name': 'Standard_NV6', 'vCPUs': 6, 'memoryGB': 56.0},\n",
       " {'name': 'Standard_NV12', 'vCPUs': 12, 'memoryGB': 112.0},\n",
       " {'name': 'Standard_NV24', 'vCPUs': 24, 'memoryGB': 224.0},\n",
       " {'name': 'Standard_ND6s', 'vCPUs': 6, 'memoryGB': 112.0},\n",
       " {'name': 'Standard_ND12s', 'vCPUs': 12, 'memoryGB': 224.0},\n",
       " {'name': 'Standard_ND24rs', 'vCPUs': 24, 'memoryGB': 448.0},\n",
       " {'name': 'Standard_ND24s', 'vCPUs': 24, 'memoryGB': 448.0}]"
      ]
     },
     "execution_count": 32,
     "metadata": {},
     "output_type": "execute_result"
    }
   ],
   "source": [
    "from azureml.core.compute import ComputeTarget, AmlCompute\n",
    "AmlCompute.supported_vmsizes(workspace = ws)"
   ]
  },
  {
   "cell_type": "markdown",
   "metadata": {},
   "source": [
    "### Persistent compute target作成"
   ]
  },
  {
   "cell_type": "code",
   "execution_count": 33,
   "metadata": {},
   "outputs": [
    {
     "name": "stdout",
     "output_type": "stream",
     "text": [
      "Creating\n",
      "Succeeded..............\n",
      "AmlCompute wait for completion finished\n",
      "Minimum number of nodes requested have been provisioned\n"
     ]
    }
   ],
   "source": [
    "from azureml.core.compute import ComputeTarget, AmlCompute\n",
    "from azureml.core.compute_target import ComputeTargetException\n",
    "\n",
    "# Choose a name for your CPU cluster\n",
    "cpu_cluster_name = \"cpuclusterdemo\"\n",
    "\n",
    "# Verify that cluster does not exist already\n",
    "try:\n",
    "    cpu_cluster = ComputeTarget(workspace=ws, name=cpu_cluster_name)\n",
    "    print('Found existing cluster, use it.')\n",
    "except ComputeTargetException:\n",
    "    compute_config = AmlCompute.provisioning_configuration(vm_size='Standard_DS15_v2', #'Standard_NC6'\n",
    "                                                           min_nodes=1,\n",
    "                                                           max_nodes=1)\n",
    "    cpu_cluster = ComputeTarget.create(ws, cpu_cluster_name, compute_config)\n",
    "\n",
    "cpu_cluster.wait_for_completion(show_output=True)"
   ]
  },
  {
   "cell_type": "code",
   "execution_count": 34,
   "metadata": {},
   "outputs": [],
   "source": [
    "from azureml.core.runconfig import RunConfiguration\n",
    "from azureml.core.conda_dependencies import CondaDependencies\n",
    "\n",
    "# create a new RunConfig object\n",
    "run_config = RunConfiguration(framework=\"python\")\n",
    "\n",
    "# Set compute target to AmlCompute target created in previous step\n",
    "run_config.target = cpu_cluster.name\n",
    "\n",
    "# enable Docker \n",
    "run_config.environment.docker.enabled = True\n",
    "run_config.environment.docker.base_image = azureml.core.runconfig.DEFAULT_CPU_IMAGE\n",
    "\n",
    "# specify CondaDependencies obj\n",
    "run_config.environment.python.conda_dependencies = CondaDependencies.create(\n",
    "    conda_packages=['numpy','pandas'], \n",
    "    #pip_packages=['azure-cli-core<2.0.55', 'azureml-defaults', 'azureml-sdk[automl]', 'azure-storage'])\n",
    "    pip_packages=['azureml-sdk[automl]', 'azure-storage'])"
   ]
  },
  {
   "cell_type": "code",
   "execution_count": 38,
   "metadata": {},
   "outputs": [],
   "source": [
    "import logging\n",
    "\n",
    "automl_settings = {\n",
    "    \"iteration_timeout_minutes\" : 30,\n",
    "    \"iterations\" : 3,\n",
    "    \"primary_metric\" : 'r2_score',\n",
    "    \"preprocess\" : True,\n",
    "    \"verbosity\" : logging.INFO,\n",
    "    \"n_cross_validations\": 5\n",
    "}\n",
    "\n",
    "from azureml.train.automl import AutoMLConfig\n",
    "\n",
    "# AML コンピュート\n",
    "automated_ml_config = AutoMLConfig(task = 'regression',\n",
    "                             debug_log = 'automated_ml_errors.log',\n",
    "                             path = project_folder,\n",
    "                             run_configuration=run_config,\n",
    "                             data_script = project_folder + \"/get_data.py\",\n",
    "                             **automl_settings)"
   ]
  },
  {
   "cell_type": "code",
   "execution_count": 39,
   "metadata": {},
   "outputs": [
    {
     "data": {
      "text/html": [
       "<table style=\"width:100%\"><tr><th>Experiment</th><th>Id</th><th>Type</th><th>Status</th><th>Details Page</th><th>Docs Page</th></tr><tr><td>ml-regression-remote-taxi</td><td>AutoML_fa4815ca-5242-4236-85ea-fdd23f9db9b4</td><td>automl</td><td>Preparing</td><td><a href=\"https://mlworkspace.azure.ai/portal/subscriptions/2c30e7ba-539b-4017-a5bc-5028d8e170ec/resourceGroups/AzureMLserviceRG/providers/Microsoft.MachineLearningServices/workspaces/hiouchiyamls/experiments/ml-regression-remote-taxi/runs/AutoML_fa4815ca-5242-4236-85ea-fdd23f9db9b4\" target=\"_blank\" rel=\"noopener\">Link to Azure Portal</a></td><td><a href=\"https://docs.microsoft.com/en-us/python/api/overview/azure/ml/intro?view=azure-ml-py\" target=\"_blank\" rel=\"noopener\">Link to Documentation</a></td></tr></table>"
      ],
      "text/plain": [
       "Run(Experiment: ml-regression-remote-taxi,\n",
       "Id: AutoML_fa4815ca-5242-4236-85ea-fdd23f9db9b4,\n",
       "Type: automl,\n",
       "Status: Preparing)"
      ]
     },
     "execution_count": 39,
     "metadata": {},
     "output_type": "execute_result"
    }
   ],
   "source": [
    "run_persistent = exp.submit(automated_ml_config, show_output = False)\n",
    "run_persistent"
   ]
  },
  {
   "cell_type": "code",
   "execution_count": 40,
   "metadata": {},
   "outputs": [
    {
     "data": {
      "application/vnd.jupyter.widget-view+json": {
       "model_id": "3615bb91569748e0ae0fefc924f3f6aa",
       "version_major": 2,
       "version_minor": 0
      },
      "text/plain": [
       "_AutoMLWidget(widget_settings={'childWidgetDisplay': 'popup', 'send_telemetry': False, 'log_level': 'INFO', 's…"
      ]
     },
     "metadata": {},
     "output_type": "display_data"
    },
    {
     "data": {
      "application/vnd.jupyter.widget-view+json": {
       "model_id": "",
       "version_major": 2,
       "version_minor": 0
      },
      "text/plain": [
       "_UserRunWidget(widget_settings={'childWidgetDisplay': 'popup', 'send_telemetry': False, 'log_level': 'INFO', '…"
      ]
     },
     "metadata": {},
     "output_type": "display_data"
    },
    {
     "data": {
      "application/vnd.jupyter.widget-view+json": {
       "model_id": "",
       "version_major": 2,
       "version_minor": 0
      },
      "text/plain": [
       "_UserRunWidget(widget_settings={'childWidgetDisplay': 'popup', 'send_telemetry': False, 'log_level': 'INFO', '…"
      ]
     },
     "metadata": {},
     "output_type": "display_data"
    },
    {
     "data": {
      "application/vnd.jupyter.widget-view+json": {
       "model_id": "9ec08264dfda4bed9be7b2aa6a3b529e",
       "version_major": 2,
       "version_minor": 0
      },
      "text/plain": [
       "_UserRunWidget(widget_settings={'childWidgetDisplay': 'popup', 'send_telemetry': False, 'log_level': 'INFO', '…"
      ]
     },
     "metadata": {},
     "output_type": "display_data"
    }
   ],
   "source": [
    "from azureml.widgets import RunDetails\n",
    "RunDetails(run_persistent).show()"
   ]
  },
  {
   "cell_type": "code",
   "execution_count": 41,
   "metadata": {},
   "outputs": [
    {
     "name": "stdout",
     "output_type": "stream",
     "text": [
      "\n",
      "*******************************************************************************************************************\n",
      "ITERATION: The iteration being evaluated.\n",
      "PIPELINE: A summary description of the pipeline being evaluated.\n",
      "TRAINFRAC: Fraction of the training data to train on.\n",
      "DURATION: Time taken for the current iteration.\n",
      "METRIC: The result of computing score on the fitted pipeline.\n",
      "BEST: The best observed score thus far.\n",
      "*******************************************************************************************************************\n",
      "\n",
      " ITERATION   PIPELINE                                       TRAINFRAC  DURATION      METRIC      BEST\n",
      "         0   StandardScalerWrapper DecisionTree             1          0:03:13       0.2208    0.2208\n",
      "         1   MaxAbsScaler ExtremeRandomTrees                1          0:31:01          nan    0.2208\n",
      "ERROR:                                                 \n",
      "         2    Ensemble                                      1          0:01:41       0.2208    0.2208\n",
      "\n",
      "Execution Summary\n",
      "=================\n",
      "RunId: AutoML_fa4815ca-5242-4236-85ea-fdd23f9db9b4\n",
      "\n",
      "Wall time: 16.8 s\n"
     ]
    },
    {
     "data": {
      "text/plain": [
       "{'runId': 'AutoML_fa4815ca-5242-4236-85ea-fdd23f9db9b4',\n",
       " 'target': 'cpuclusterdemo',\n",
       " 'status': 'Completed',\n",
       " 'startTimeUtc': '2019-02-16T09:50:50.286935Z',\n",
       " 'endTimeUtc': '2019-02-16T10:26:59.846627Z',\n",
       " 'properties': {'num_iterations': '3',\n",
       "  'training_type': 'TrainFull',\n",
       "  'acquisition_function': 'EI',\n",
       "  'primary_metric': 'r2_score',\n",
       "  'train_split': '0',\n",
       "  'MaxTimeSeconds': '1800',\n",
       "  'acquisition_parameter': '0',\n",
       "  'num_cross_validation': '5',\n",
       "  'target': 'cpuclusterdemo',\n",
       "  'RawAMLSettingsString': \"{'name': 'ml-regression-remote-taxi', 'path': './sample_projects/ml-regression-remote-taxi', 'subscription_id': '2c30e7ba-539b-4017-a5bc-5028d8e170ec', 'resource_group': 'AzureMLserviceRG', 'workspace_name': 'hiouchiyamls', 'iterations': 3, 'primary_metric': 'r2_score', 'data_script': './sample_projects/ml-regression-remote-taxi/get_data.py', 'compute_target': 'cpuclusterdemo', 'task_type': 'regression', 'validation_size': 0.0, 'n_cross_validations': 5, 'y_min': None, 'y_max': None, 'num_classes': None, 'preprocess': True, 'lag_length': 0, 'is_timeseries': False, 'max_cores_per_iteration': 1, 'max_concurrent_iterations': 1, 'iteration_timeout_minutes': 30, 'mem_in_mb': None, 'enforce_time_on_windows': True, 'experiment_timeout_minutes': None, 'experiment_exit_score': None, 'whitelist_models': None, 'blacklist_algos': ['KNeighborsClassifier', 'KNeighborsRegressor', 'SVCWrapper', 'kNN', 'kNN regressor', 'SVM'], 'auto_blacklist': True, 'blacklist_samples_reached': True, 'exclude_nan_labels': True, 'verbosity': 20, 'debug_log': 'automated_ml_errors.log', 'show_warnings': False, 'model_explainability': False, 'service_url': None, 'sdk_url': None, 'sdk_packages': None, 'telemetry_verbosity': 'INFO', 'send_telemetry': True, 'spark_service': None, 'metrics': None, 'enable_ensembling': True, 'ensemble_iterations': 3, 'enable_tf': False, 'enable_cache': True, 'enable_subsampling': False, 'subsample_seed': None, 'cost_mode': 0, 'metric_operation': 'maximize'}\",\n",
       "  'AMLSettingsJsonString': '{\"name\": \"ml-regression-remote-taxi\", \"path\": \"./sample_projects/ml-regression-remote-taxi\", \"subscription_id\": \"2c30e7ba-539b-4017-a5bc-5028d8e170ec\", \"resource_group\": \"AzureMLserviceRG\", \"workspace_name\": \"hiouchiyamls\", \"iterations\": 3, \"primary_metric\": \"r2_score\", \"data_script\": \"./sample_projects/ml-regression-remote-taxi/get_data.py\", \"compute_target\": \"cpuclusterdemo\", \"task_type\": \"regression\", \"validation_size\": 0.0, \"n_cross_validations\": 5, \"y_min\": null, \"y_max\": null, \"num_classes\": null, \"preprocess\": true, \"lag_length\": 0, \"is_timeseries\": false, \"max_cores_per_iteration\": 1, \"max_concurrent_iterations\": 1, \"iteration_timeout_minutes\": 30, \"mem_in_mb\": null, \"enforce_time_on_windows\": true, \"experiment_timeout_minutes\": null, \"experiment_exit_score\": null, \"whitelist_models\": null, \"blacklist_algos\": [\"KNeighborsClassifier\", \"KNeighborsRegressor\", \"SVCWrapper\", \"kNN\", \"kNN regressor\", \"SVM\"], \"auto_blacklist\": true, \"blacklist_samples_reached\": true, \"exclude_nan_labels\": true, \"verbosity\": 20, \"debug_log\": \"automated_ml_errors.log\", \"show_warnings\": false, \"model_explainability\": false, \"service_url\": null, \"sdk_url\": null, \"sdk_packages\": null, \"telemetry_verbosity\": \"INFO\", \"send_telemetry\": true, \"spark_service\": null, \"metrics\": null, \"enable_ensembling\": true, \"ensemble_iterations\": 3, \"enable_tf\": false, \"enable_cache\": true, \"enable_subsampling\": false, \"subsample_seed\": null, \"cost_mode\": 0, \"metric_operation\": \"maximize\"}',\n",
       "  'DataPrepJsonString': None,\n",
       "  'EnableSubsampling': 'False',\n",
       "  'runTemplate': 'AutoML',\n",
       "  'azureml.runsource': 'automl',\n",
       "  'dependencies_versions': '{\"azureml-widgets\": \"1.0.15\", \"azureml-train\": \"1.0.15\", \"azureml-train-restclients-hyperdrive\": \"1.0.15\", \"azureml-train-core\": \"1.0.15\", \"azureml-train-automl\": \"1.0.15\", \"azureml-telemetry\": \"1.0.15\", \"azureml-sdk\": \"1.0.15.1\", \"azureml-pipeline\": \"1.0.15\", \"azureml-pipeline-steps\": \"1.0.15\", \"azureml-pipeline-core\": \"1.0.15\", \"azureml-dataprep\": \"1.0.12\", \"azureml-dataprep-native\": \"11.2.1\", \"azureml-core\": \"1.0.15\"}',\n",
       "  'ContentSnapshotId': '76d3bbeb-bdbc-42a7-a83d-bfcc8a1b7612',\n",
       "  'snapshotId': '76d3bbeb-bdbc-42a7-a83d-bfcc8a1b7612',\n",
       "  'SetupRunId': 'AutoML_fa4815ca-5242-4236-85ea-fdd23f9db9b4_setup',\n",
       "  'ProblemInfoJsonString': '{\"dataset_num_categorical\": 0, \"dataset_classes\": 263, \"dataset_features\": 83, \"dataset_samples\": 1992224, \"is_sparse\": true, \"subsampling\": false}'},\n",
       " 'logFiles': {}}"
      ]
     },
     "execution_count": 41,
     "metadata": {},
     "output_type": "execute_result"
    }
   ],
   "source": [
    "%%time\n",
    "# Shows output of the run on stdout.\n",
    "run_persistent.wait_for_completion(show_output=True)"
   ]
  },
  {
   "cell_type": "code",
   "execution_count": 42,
   "metadata": {},
   "outputs": [
    {
     "data": {
      "text/html": [
       "<div>\n",
       "<style scoped>\n",
       "    .dataframe tbody tr th:only-of-type {\n",
       "        vertical-align: middle;\n",
       "    }\n",
       "\n",
       "    .dataframe tbody tr th {\n",
       "        vertical-align: top;\n",
       "    }\n",
       "\n",
       "    .dataframe thead th {\n",
       "        text-align: right;\n",
       "    }\n",
       "</style>\n",
       "<table border=\"1\" class=\"dataframe\">\n",
       "  <thead>\n",
       "    <tr style=\"text-align: right;\">\n",
       "      <th></th>\n",
       "      <th>0</th>\n",
       "      <th>1</th>\n",
       "      <th>2</th>\n",
       "    </tr>\n",
       "  </thead>\n",
       "  <tbody>\n",
       "    <tr>\n",
       "      <th>explained_variance</th>\n",
       "      <td>0.220774</td>\n",
       "      <td>NaN</td>\n",
       "      <td>0.220774</td>\n",
       "    </tr>\n",
       "    <tr>\n",
       "      <th>mean_absolute_error</th>\n",
       "      <td>4.990241</td>\n",
       "      <td>NaN</td>\n",
       "      <td>4.990241</td>\n",
       "    </tr>\n",
       "    <tr>\n",
       "      <th>median_absolute_error</th>\n",
       "      <td>3.262016</td>\n",
       "      <td>NaN</td>\n",
       "      <td>3.262016</td>\n",
       "    </tr>\n",
       "    <tr>\n",
       "      <th>normalized_mean_absolute_error</th>\n",
       "      <td>0.015792</td>\n",
       "      <td>NaN</td>\n",
       "      <td>0.015792</td>\n",
       "    </tr>\n",
       "    <tr>\n",
       "      <th>normalized_median_absolute_error</th>\n",
       "      <td>0.010323</td>\n",
       "      <td>NaN</td>\n",
       "      <td>0.010323</td>\n",
       "    </tr>\n",
       "    <tr>\n",
       "      <th>normalized_root_mean_squared_error</th>\n",
       "      <td>0.027534</td>\n",
       "      <td>NaN</td>\n",
       "      <td>0.027534</td>\n",
       "    </tr>\n",
       "    <tr>\n",
       "      <th>normalized_root_mean_squared_log_error</th>\n",
       "      <td>0.154563</td>\n",
       "      <td>NaN</td>\n",
       "      <td>0.154563</td>\n",
       "    </tr>\n",
       "    <tr>\n",
       "      <th>r2_score</th>\n",
       "      <td>0.220771</td>\n",
       "      <td>NaN</td>\n",
       "      <td>0.220771</td>\n",
       "    </tr>\n",
       "    <tr>\n",
       "      <th>root_mean_squared_error</th>\n",
       "      <td>8.700757</td>\n",
       "      <td>NaN</td>\n",
       "      <td>8.700757</td>\n",
       "    </tr>\n",
       "    <tr>\n",
       "      <th>root_mean_squared_log_error</th>\n",
       "      <td>0.783464</td>\n",
       "      <td>NaN</td>\n",
       "      <td>0.783464</td>\n",
       "    </tr>\n",
       "    <tr>\n",
       "      <th>spearman_correlation</th>\n",
       "      <td>0.554373</td>\n",
       "      <td>NaN</td>\n",
       "      <td>0.554373</td>\n",
       "    </tr>\n",
       "  </tbody>\n",
       "</table>\n",
       "</div>"
      ],
      "text/plain": [
       "                                               0   1         2\n",
       "explained_variance                      0.220774 NaN  0.220774\n",
       "mean_absolute_error                     4.990241 NaN  4.990241\n",
       "median_absolute_error                   3.262016 NaN  3.262016\n",
       "normalized_mean_absolute_error          0.015792 NaN  0.015792\n",
       "normalized_median_absolute_error        0.010323 NaN  0.010323\n",
       "normalized_root_mean_squared_error      0.027534 NaN  0.027534\n",
       "normalized_root_mean_squared_log_error  0.154563 NaN  0.154563\n",
       "r2_score                                0.220771 NaN  0.220771\n",
       "root_mean_squared_error                 8.700757 NaN  8.700757\n",
       "root_mean_squared_log_error             0.783464 NaN  0.783464\n",
       "spearman_correlation                    0.554373 NaN  0.554373"
      ]
     },
     "execution_count": 42,
     "metadata": {},
     "output_type": "execute_result"
    }
   ],
   "source": [
    "children = list(run_persistent.get_children())\n",
    "metricslist = {}\n",
    "for run in children:\n",
    "    properties = run.get_properties()\n",
    "    metrics = {k: v for k, v in run.get_metrics().items() if isinstance(v, float)}\n",
    "    metricslist[int(properties['iteration'])] = metrics\n",
    "\n",
    "rundata = pd.DataFrame(metricslist).sort_index(1)\n",
    "rundata"
   ]
  },
  {
   "cell_type": "code",
   "execution_count": 43,
   "metadata": {},
   "outputs": [
    {
     "name": "stdout",
     "output_type": "stream",
     "text": [
      "Run(Experiment: ml-regression-remote-taxi,\n",
      "Id: AutoML_fa4815ca-5242-4236-85ea-fdd23f9db9b4_2,\n",
      "Type: azureml.scriptrun,\n",
      "Status: Completed)\n",
      "Pipeline(memory=None,\n",
      "     steps=[('datatransformer', DataTransformer(logger=None, task=None)), ('prefittedsoftvotingregressor', PreFittedSoftVotingRegressor(estimators=[('DecisionTree', Pipeline(memory=None,\n",
      "     steps=[('standardscalerwrapper', <automl.client.core.common.model_wrappers.StandardScalerWrapper object at 0x0000...tate=None,\n",
      "           splitter='best'))]))],\n",
      "               flatten_transform=None, weights=[1.0]))])\n"
     ]
    }
   ],
   "source": [
    "best_run, fitted_model = run_persistent.get_output()\n",
    "print(best_run)\n",
    "print(fitted_model)"
   ]
  },
  {
   "cell_type": "code",
   "execution_count": 44,
   "metadata": {},
   "outputs": [
    {
     "name": "stdout",
     "output_type": "stream",
     "text": [
      "Registering model AutoMLfa4815ca5best\n",
      "AutoMLfa4815ca5best\n"
     ]
    }
   ],
   "source": [
    "description = 'Automated Machine Learning Model'\n",
    "tags = None\n",
    "model = run_persistent.register_model(description=description, tags=tags)\n",
    "print(run_persistent.model_id) # Use this id to deploy the model as a web service in Azure"
   ]
  },
  {
   "cell_type": "code",
   "execution_count": 58,
   "metadata": {},
   "outputs": [
    {
     "data": {
      "text/plain": [
       "array([[ 1, 59, 76,  2, 40, 26,  6,  0,  0,  0]])"
      ]
     },
     "execution_count": 58,
     "metadata": {},
     "output_type": "execute_result"
    }
   ],
   "source": [
    "import json\n",
    "import numpy as np\n",
    "input_data = \"{\\\"pickup_hour\\\":1, \\\"pickup_latitude_group\\\":59, \\\"pickup_longitude_group\\\":76, \\\"pickup_dayofweek\\\":2, \\\"TMAX\\\":40, \\\"TMIN\\\":26, \\\"AWND\\\":6, \\\"PRCP\\\":0, \\\"SNOW\\\":0, \\\"SNWD\\\":0}\"\n",
    "inputdata = json.loads(input_data)\n",
    "pickup_hour = inputdata['pickup_hour']\n",
    "pickup_latitude_group = inputdata['pickup_latitude_group']\n",
    "pickup_longitude_group = inputdata['pickup_longitude_group']\n",
    "pickup_dayofweek = inputdata['pickup_dayofweek']\n",
    "TMAX = inputdata['TMAX']\n",
    "TMIN = inputdata['TMIN']\n",
    "AWND = inputdata['AWND']\n",
    "PRCP = inputdata['PRCP']\n",
    "SNOW = inputdata['SNOW']\n",
    "SNWD = inputdata['SNWD']\n",
    "X = [[int(pickup_hour), pickup_latitude_group, pickup_longitude_group, pickup_dayofweek, TMAX, TMIN, AWND, PRCP, SNOW, SNWD]]\n",
    "X = np.array(X)\n",
    "X"
   ]
  },
  {
   "cell_type": "code",
   "execution_count": 66,
   "metadata": {},
   "outputs": [
    {
     "data": {
      "text/html": [
       "<div>\n",
       "<style scoped>\n",
       "    .dataframe tbody tr th:only-of-type {\n",
       "        vertical-align: middle;\n",
       "    }\n",
       "\n",
       "    .dataframe tbody tr th {\n",
       "        vertical-align: top;\n",
       "    }\n",
       "\n",
       "    .dataframe thead th {\n",
       "        text-align: right;\n",
       "    }\n",
       "</style>\n",
       "<table border=\"1\" class=\"dataframe\">\n",
       "  <thead>\n",
       "    <tr style=\"text-align: right;\">\n",
       "      <th></th>\n",
       "      <th>pickup_hour</th>\n",
       "      <th>pickup_latitude_group</th>\n",
       "      <th>pickup_longitude_group</th>\n",
       "      <th>pickup_dayofweek</th>\n",
       "      <th>TMAX</th>\n",
       "      <th>TMIN</th>\n",
       "      <th>AWND</th>\n",
       "      <th>PRCP</th>\n",
       "      <th>SNOW</th>\n",
       "      <th>SNWD</th>\n",
       "    </tr>\n",
       "  </thead>\n",
       "  <tbody>\n",
       "    <tr>\n",
       "      <th>0</th>\n",
       "      <td>1</td>\n",
       "      <td>59</td>\n",
       "      <td>76</td>\n",
       "      <td>2</td>\n",
       "      <td>40</td>\n",
       "      <td>26</td>\n",
       "      <td>6</td>\n",
       "      <td>0</td>\n",
       "      <td>0</td>\n",
       "      <td>0</td>\n",
       "    </tr>\n",
       "  </tbody>\n",
       "</table>\n",
       "</div>"
      ],
      "text/plain": [
       "   pickup_hour  pickup_latitude_group  pickup_longitude_group  \\\n",
       "0  1            59                     76                       \n",
       "\n",
       "   pickup_dayofweek  TMAX  TMIN  AWND  PRCP  SNOW  SNWD  \n",
       "0  2                 40    26    6     0     0     0     "
      ]
     },
     "execution_count": 66,
     "metadata": {},
     "output_type": "execute_result"
    }
   ],
   "source": [
    "df = pd.DataFrame({ 'pickup_hour' : inputdata['pickup_hour'],\n",
    "                        'pickup_latitude_group' : inputdata['pickup_latitude_group'],\n",
    "                        'pickup_longitude_group' : inputdata['pickup_longitude_group'],\n",
    "                        'pickup_dayofweek' : inputdata['pickup_dayofweek'],\n",
    "                        'TMAX' : inputdata['TMAX'],\n",
    "                        'TMIN' : inputdata['TMIN'],\n",
    "                        'AWND' : inputdata['AWND'],\n",
    "                        'PRCP' : inputdata['PRCP'],\n",
    "                        'SNOW' : inputdata['SNOW'],\n",
    "                        'SNWD' : inputdata['SNWD'] }, index=[0])\n",
    "df"
   ]
  },
  {
   "cell_type": "code",
   "execution_count": 64,
   "metadata": {},
   "outputs": [
    {
     "data": {
      "text/html": [
       "<div>\n",
       "<style scoped>\n",
       "    .dataframe tbody tr th:only-of-type {\n",
       "        vertical-align: middle;\n",
       "    }\n",
       "\n",
       "    .dataframe tbody tr th {\n",
       "        vertical-align: top;\n",
       "    }\n",
       "\n",
       "    .dataframe thead th {\n",
       "        text-align: right;\n",
       "    }\n",
       "</style>\n",
       "<table border=\"1\" class=\"dataframe\">\n",
       "  <thead>\n",
       "    <tr style=\"text-align: right;\">\n",
       "      <th></th>\n",
       "      <th>pickup_hour</th>\n",
       "      <th>pickup_latitude_group</th>\n",
       "      <th>pickup_longitude_group</th>\n",
       "      <th>pickup_dayofweek</th>\n",
       "      <th>TMAX</th>\n",
       "      <th>TMIN</th>\n",
       "      <th>AWND</th>\n",
       "      <th>PRCP</th>\n",
       "      <th>SNOW</th>\n",
       "      <th>SNWD</th>\n",
       "    </tr>\n",
       "  </thead>\n",
       "  <tbody>\n",
       "    <tr>\n",
       "      <th>0</th>\n",
       "      <td>0</td>\n",
       "      <td>59</td>\n",
       "      <td>76</td>\n",
       "      <td>2</td>\n",
       "      <td>40</td>\n",
       "      <td>26</td>\n",
       "      <td>6.93</td>\n",
       "      <td>0</td>\n",
       "      <td>0</td>\n",
       "      <td>0</td>\n",
       "    </tr>\n",
       "  </tbody>\n",
       "</table>\n",
       "</div>"
      ],
      "text/plain": [
       "   pickup_hour  pickup_latitude_group  pickup_longitude_group  \\\n",
       "0  0            59                     76                       \n",
       "\n",
       "   pickup_dayofweek  TMAX  TMIN  AWND  PRCP  SNOW  SNWD  \n",
       "0  2                 40    26    6.93  0     0     0     "
      ]
     },
     "execution_count": 64,
     "metadata": {},
     "output_type": "execute_result"
    }
   ],
   "source": [
    "import pandas as pd\n",
    "df = pd.read_csv('./testdata.csv', sep=',')\n",
    "df.head(3)"
   ]
  },
  {
   "cell_type": "code",
   "execution_count": 68,
   "metadata": {},
   "outputs": [
    {
     "data": {
      "text/plain": [
       "array([1.22552934])"
      ]
     },
     "execution_count": 68,
     "metadata": {},
     "output_type": "execute_result"
    }
   ],
   "source": [
    "fitted_model.predict(df)"
   ]
  },
  {
   "cell_type": "code",
   "execution_count": null,
   "metadata": {},
   "outputs": [],
   "source": []
  }
 ],
 "metadata": {
  "kernelspec": {
   "display_name": "Python 3",
   "language": "python",
   "name": "python3"
  },
  "language_info": {
   "codemirror_mode": {
    "name": "ipython",
    "version": 3
   },
   "file_extension": ".py",
   "mimetype": "text/x-python",
   "name": "python",
   "nbconvert_exporter": "python",
   "pygments_lexer": "ipython3",
   "version": "3.6.8"
  }
 },
 "nbformat": 4,
 "nbformat_minor": 2
}
